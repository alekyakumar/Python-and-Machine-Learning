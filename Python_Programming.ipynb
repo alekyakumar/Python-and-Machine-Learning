{
 "cells": [
  {
   "cell_type": "markdown",
   "metadata": {
    "deletable": true,
    "editable": true
   },
   "source": [
    "## EAS 503 Homework 1 Submission\n",
    "Name - _Enter your name here_\n",
    "\n",
    "**Make sure that you rename the notebook file to *replacewithubitname*_eas503_hw1.ipynb**\n",
    "\n",
    "\n",
    "### Submission Details\n",
    "* **Due Date** - September 26, 2017 by 11.59 PM PST. All assignments have to be submitted using UBLearns.\n",
    "* **Number of Problems** - 4\n",
    "* **Maximum points** - 50\n",
    "* **Collaboration policy**\n",
    " - Every student has to submit individual homeworks\n",
    " - Any collaboration, in the form of discussion, with other members of the class is permitted, as long as the names of the collaborating members are explicitly stated on top of the submitted homework.\n",
    " - Any overlap with another submission or material from Internet will be awarded an F.\n",
    "* **Late submission policy** - _No late submissions allowed_\n",
    "* **Submission Format** - Enter code for each problem in the appropriate cell below. You may use multiple cells for a single problem to improve readability."
   ]
  },
  {
   "cell_type": "markdown",
   "metadata": {
    "deletable": true,
    "editable": true
   },
   "source": [
    "### Problem 1 - Testing for Primes (10 Points)\n",
    "Test if a number is prime using `if-else` conditions. Using the developed code, create a list of first 50 prime numbers. Try designing the shortest possible algorithm and record the time taken for the code to run.\n",
    "\n",
    "You will need to define a function `primeTester`, which takes no inputs. The function should return a Python `list` of length 50, with first 50 prime numbers. The function should also output (on the screen), the total time taken to generate the 50 prime numbers. Use the `time` library (as shown in class) for capturing the elapsed time."
   ]
  },
  {
   "cell_type": "code",
   "execution_count": 85,
   "metadata": {
    "collapsed": false,
    "deletable": true,
    "editable": true
   },
   "outputs": [
    {
     "name": "stdout",
     "output_type": "stream",
     "text": [
      "[2, 3, 5, 7, 11, 13, 17, 19, 23, 29, 31, 37, 41, 43, 47, 53, 59, 61, 67, 71, 73, 79, 83, 89, 97, 101, 103, 107, 109, 113, 127, 131, 137, 139, 149, 151, 157, 163, 167, 173, 179, 181, 191, 193, 197, 199, 211, 223, 227, 229]\n",
      "50\n",
      "50\n",
      "0.00799250602722168\n"
     ]
    }
   ],
   "source": [
    "# Enter your solution here\n",
    "import time\n",
    "def primeTester():\n",
    "    pnos = [2]\n",
    "    count = 1\n",
    "    num = 3\n",
    "    \n",
    "    while (count < 50):\n",
    "        flag = 0\n",
    "        div = 2\n",
    "        while  (div < num) :\n",
    "            if num%div == 0:\n",
    "                flag = 1\n",
    "                break\n",
    "            div = div + 1\n",
    "        if flag == 0:\n",
    "            pnos.append( num )\n",
    "            count += 1\n",
    "        num = num + 1\n",
    "    print(pnos)\n",
    "    print(len(pnos))\n",
    "    print(count)\n",
    "s = time.time()\n",
    "primeTester()\n",
    "e = time.time()\n",
    "print(e-s)"
   ]
  },
  {
   "cell_type": "markdown",
   "metadata": {
    "deletable": true,
    "editable": true
   },
   "source": [
    "### Problem 2 - Handling Exceptions (10 Points)\n",
    "In this problem we will read from a text file (**data_p2.txt**) included in the assignment. Please download it and store it in the same directory as this notebook. The code for reading data from the file is given below. You need to store the data and perform a simple mathematical operation on each data point. Each line is _supposed_ to contain a floating point number. But what you will observe is that some lines might have erroneous entries. You need to ignore those lines (Hint: Use exception handling). \n",
    "\n",
    "The idea is to write a function, `computeMean()`, which reads in a file and computes the average of the numbers and returns the output. You may use the inbuilt function `sum` when computing the mean."
   ]
  },
  {
   "cell_type": "code",
   "execution_count": 2,
   "metadata": {
    "collapsed": false,
    "deletable": true,
    "editable": true
   },
   "outputs": [],
   "source": [
    "# Reading from a file. The following code just reads in every line in a text file without doing anything with it.\n",
    "# You can use the code in your solution.\n",
    "with open('data_p2.txt','r') as f: #we open the file in 'read' mode. The 'with' clause is similar to 'finally' clause\n",
    "    for line in f: #iterate over the file line by line\n",
    "        s = line.strip() #strip() removes the endline character at the end of the line. Line is of type 'str'"
   ]
  },
  {
   "cell_type": "code",
   "execution_count": 86,
   "metadata": {
    "collapsed": false,
    "deletable": true,
    "editable": true
   },
   "outputs": [
    {
     "name": "stdout",
     "output_type": "stream",
     "text": [
      "0.49132205351521485\n"
     ]
    }
   ],
   "source": [
    "# Enter your solution here\n",
    "\n",
    "def computeMean():\n",
    "    with open('data_p2.txt','r') as f:\n",
    "        total = 0\n",
    "        count = 0\n",
    "        for line in f: \n",
    "            #print(line)\n",
    "            s = line.strip()\n",
    "            try:\n",
    "                #print(\"Floating \", s)\n",
    "                sf = float(line)\n",
    "                total = total + sf\n",
    "                count = count + 1\n",
    "            except ValueError:\n",
    "                #print(\"Ignoring value\", s)\n",
    "                pass\n",
    "    avg = total/count\n",
    "    print(avg)\n",
    "            \n",
    "computeMean()"
   ]
  },
  {
   "cell_type": "markdown",
   "metadata": {
    "deletable": true,
    "editable": true
   },
   "source": [
    "### Problem 3 - Benchmarking List Performance (10 Points)\n",
    "We want to check the peformance of the Python inbuilt `del` routine for dropping elements from a list. The question that we want answer for is: does the time required to delete an element from a Python list depend on the size of the list and on the location of the target element.\n",
    "\n",
    "In each step of the experiment do the following: Create a list of integers from 1 to N. Delete the $i^{th}$ element. Measure the time taken to delete the element (Hint: use the `time` package in Python).\n",
    "\n",
    "Conduct the above experiment for $N = 1000$ and $i$ ranging from 1 to 1000 in steps of 10. Make sure that you are recreating the Python list every time. Save the times in a list (let us name it `time1000`).\n",
    "\n",
    "Repeat the above experiment, but set $N = 100000$. This time, vary $i$ from 1 to 100000 in steps of 100. Save the times for this experiment in another list, say, `time100000`.\n",
    "\n",
    "Plot the two lists using the `matplotlib.pyplot` package. See below for a sample code. You can plot both lists in the same chart to compare.\n",
    "\n",
    "Using the plots, answer the following (create a markup cell after your code cell(s) and enter your responses):\n",
    "1. Does the cost of deleting an element depend on the list size?\n",
    "2. Does the cost of deleting an element depend on the location of the deleted element?\n",
    "\n"
   ]
  },
  {
   "cell_type": "code",
   "execution_count": 87,
   "metadata": {
    "collapsed": false,
    "deletable": true,
    "editable": true,
    "scrolled": true
   },
   "outputs": [
    {
     "name": "stdout",
     "output_type": "stream",
     "text": [
      "hi\n"
     ]
    },
    {
     "data": {
      "image/png": "[encoded data removed]",
      "text/plain": [
       "<matplotlib.figure.Figure at 0x13c7386b5f8>"
      ]
     },
     "metadata": {},
     "output_type": "display_data"
    }
   ],
   "source": [
    "# Using matplotlib for plotting\n",
    "import matplotlib.pyplot as plt\n",
    "import time\n",
    "%matplotlib inline \n",
    "# above line is needed to make sure that the plots are displayed in the notebook.\n",
    "\n",
    "#generate some dummy data\n",
    "def delOperation():\n",
    "    x = list(range(1,1000001)) # generate a list\n",
    "    i = 10000\n",
    "    indexes = []\n",
    "    indices =[]\n",
    "    times1 = []\n",
    "    times2 = []\n",
    "    print(\"hi\")\n",
    "    while i < 1000000:\n",
    "        s = time.time()\n",
    "        del x[i]\n",
    "        e = time.time()\n",
    "        time10000 = e-s\n",
    "        times1.append(time10000)\n",
    "        indexes.append(i)\n",
    "        x = list(range(1,1000001))\n",
    "        i += 10000\n",
    "    \n",
    "    y = list(range(1,10000001))\n",
    "    j = 100000\n",
    "    while j < 10000000:\n",
    "        s = time.time()\n",
    "        del y[j]\n",
    "        e = time.time()\n",
    "        time100000 = e-s\n",
    "        times2.append(time100000)\n",
    "        #indices.append(j)\n",
    "        y = list(range(1,10000001))\n",
    "        j += 100000\n",
    "    \n",
    "    #y = [x1**2+2*x1 for x1 in x] # create a new list using the original list. Note the Pythonic inline creation of lists.\n",
    "    #y1 = [x1**2.3 for x1 in x]\n",
    "    plt.plot(indexes,times1)\n",
    "    plt.plot(indexes,times2)\n",
    "\n",
    "delOperation()"
   ]
  },
  {
   "cell_type": "markdown",
   "metadata": {
    "collapsed": true,
    "deletable": true,
    "editable": true
   },
   "source": [
    "# 1) No it is not. We are recreating the list each time, but the time is decreasing eventhen.\n",
    "# 2) Yes it depends on the location of the item\n"
   ]
  },
  {
   "cell_type": "markdown",
   "metadata": {
    "deletable": true,
    "editable": true
   },
   "source": [
    "### Problem 4 - The Monty Hall Problem (20 Points)\n",
    "The Monty Hall problem is an interesting and often counter-intuitive game.\n",
    "\n",
    "> Consider that you are a contestant on a game show. There are 3 closed doors. Behind one door is the car (the prize), and behind the other two doors are goats (not the prize). First you are asked to pick one door (call it door A). Without opening door A, the eponymous host of the game, Monty Hall, examines the other two doors. Monty always opens the door with a goat (call it B). If both doors had goats behind them, he picks one at random.\n",
    "\n",
    "> The game is this: _stick_ or _switch_; after finding out about the door B (and the fact that there is a goat behind it), do you stick with your original choice of door A or switch to the other unopened door, C? Statistically speaking, once you know about B, will the probability of the car to be behind C is greater than, less than, or equal to that of behind A?\n",
    "\n",
    "> Surprisingly, the odds aren't 50-50. If you switch doors you'll win 2/3 of the time!\n",
    "\n",
    "**Monty hall problem**: Implement a simulation for the Monty Hall game. Run the simulation 1000 times to figure out the empirical (observed) probability of winning when switching and winning when sticking to the original choice. Each simulation operates as follows:\n",
    "1. First randomly pick a door configuration (In an actual game, this configuration will be visible to Monty but not to the contestant). You will have to first figure out the total number of possible configurations. For example, one possibility could be GGC, which means first and second doors have goats and third door has the car. You can select one of the configuration randomly in many ways. For instance, you could use the routine `np.random.randint(0,N)` to randomly obtain an integer between 0 and $N$, where $N$ is the total number of configurations. Another option would be pick a random number between 0 and 2 and use that to assign the car to a particular door.\n",
    "2. Next, the contestant randomly picks one of the three doors as the one with the car behind it. This can also be done using the `np.random.randint()` method.\n",
    "3. Next, the host (the program - Monty) deterministically chooses which of the other two doors to open. If the contestant has chosen a door with the car, then the program can just choose the first of the two remaining doors (since both have goats behind them). Or it could be a random coin flip (again, use `np.random.randint()` method). \n",
    "4. Finally, the contestant randomly chooses to either stick or switch. The program checks if the contestant won (the chosen door does have a car behind it) or not (the chosen door has a goat behind it). In case of winning, record if the winning was because of _sticking_ or _switching_.\n",
    "\n",
    "Once the method `simulategame()` that does the above four steps and returns _sticking_, _switching_, or None, depending on the win/loss scenario, run the method 1000 times and count the number of times the win was due to _sticking_ to the decision in Step 1, and number of times the win was due to _switching_ to the other door."
   ]
  },
  {
   "cell_type": "code",
   "execution_count": null,
   "metadata": {
    "collapsed": true
   },
   "outputs": [],
   "source": []
  },
  {
   "cell_type": "code",
   "execution_count": 92,
   "metadata": {
    "collapsed": false,
    "deletable": true,
    "editable": true,
    "scrolled": true
   },
   "outputs": [
    {
     "name": "stdout",
     "output_type": "stream",
     "text": [
      "505\n",
      "0\n",
      "495\n",
      "50.5\n",
      "49.5\n"
     ]
    }
   ],
   "source": [
    "# Enter your solution here\n",
    "import numpy as np\n",
    "import random \n",
    "def simultgame():\n",
    "    m =[]\n",
    "    d = [1, 2, 3]\n",
    "    con = random.choice(d)\n",
    "    car = random.choice(d)\n",
    "    win = 0 \n",
    "    loss = 0\n",
    "    win_if_switch = 0\n",
    "    win_if_stick = 0\n",
    "    for j in range(1,1001):\n",
    "        if (con == car):\n",
    "            for i in d:\n",
    "                if i != car:\n",
    "                    m.append(i)\n",
    "                    #print(m)\n",
    "            mon = random.choice(m)\n",
    "                    #print(mon)\n",
    "        else:\n",
    "            for i in d:\n",
    "                if i != con and i != car:\n",
    "                    mon = i\n",
    "                    break\n",
    "                    m.append(i)\n",
    "                    #print(m)\n",
    "                    mon = random.choice(m)\n",
    "                    #print(mon)\n",
    "                \n",
    "    #####Stick or Switch####\n",
    "        \n",
    "        re_pick = ['switch','stick']\n",
    "        re_pick = random.choice(re_pick)\n",
    "        if re_pick == 'switch':\n",
    "            if con == car:\n",
    "                loss = loss + 1\n",
    "                \n",
    "            else: \n",
    "                win = win + 1\n",
    "                win_if_switch += 1\n",
    "        \n",
    "        else:\n",
    "            if con == car:\n",
    "                win = win + 1\n",
    "                win_if_stick += 1\n",
    "            else:\n",
    "                loss = loss + 1\n",
    "                \n",
    "\n",
    "    #print(j)\n",
    "    #print(win)\n",
    "    print(win_if_switch)\n",
    "    print(win_if_stick)\n",
    "    print(loss)\n",
    "    \n",
    "    win_percent = (win/1000) * 100\n",
    "    print(win_percent)\n",
    "    \n",
    "    loss_percent = (loss/1000) * 100\n",
    "    print(loss_percent)\n",
    "    \n",
    "    \n",
    "    \n",
    "    \n",
    "    \n",
    "simultgame()"
   ]
  },
  {
   "cell_type": "code",
   "execution_count": null,
   "metadata": {
    "collapsed": true
   },
   "outputs": [],
   "source": []
  },
  {
   "cell_type": "code",
   "execution_count": null,
   "metadata": {
    "collapsed": true
   },
   "outputs": [],
   "source": []
  },
  {
   "cell_type": "code",
   "execution_count": null,
   "metadata": {
    "collapsed": true
   },
   "outputs": [],
   "source": []
  }
 ],
 "metadata": {
  "kernelspec": {
   "display_name": "Python 3",
   "language": "python",
   "name": "python3"
  },
  "language_info": {
   "codemirror_mode": {
    "name": "ipython",
    "version": 3
   },
   "file_extension": ".py",
   "mimetype": "text/x-python",
   "name": "python",
   "nbconvert_exporter": "python",
   "pygments_lexer": "ipython3",
   "version": "3.6.1"
  }
 },
 "nbformat": 4,
 "nbformat_minor": 2
}
