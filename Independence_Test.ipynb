{
 "cells": [
  {
   "cell_type": "code",
   "execution_count": 36,
   "metadata": {
    "collapsed": false
   },
   "outputs": [
    {
     "name": "stdout",
     "output_type": "stream",
     "text": [
      "{6}\n",
      "[2, 4, 6, 6]\n",
      "55\n",
      "67\n",
      "55\n",
      "0.55\n",
      "0.67\n",
      "0.55\n",
      "they are not independent\n"
     ]
    }
   ],
   "source": [
    "import random\n",
    "def prob_simulate():\n",
    "    A = [2, 4, 6]\n",
    "    B = [1, 2, 3, 4]\n",
    "    #C = A & B\n",
    "    A_set = set(A)\n",
    "    B_set = set(B)\n",
    "    D = A_set - B_set\n",
    "    \n",
    "    D_set = A + list(D)\n",
    "    \n",
    "    \n",
    "\n",
    "    A_Counter = 0\n",
    "    B_Counter = 0\n",
    "    D_Counter = 0\n",
    "    i = 1\n",
    "\n",
    "    while i<100:\n",
    "        sel = random.randint(1,6)\n",
    "        #print(sel)\n",
    "        if sel in A:\n",
    "            A_Counter = A_Counter + 1\n",
    "            \n",
    "        if sel in B:\n",
    "            B_Counter = B_Counter + 1\n",
    "        if sel in D_set:\n",
    "            D_Counter = D_Counter + 1\n",
    "        \n",
    "        i = i+1\n",
    "    print(A_Counter)\n",
    "    print(B_Counter)\n",
    "    print(D_Counter)\n",
    "    P_A = A_Counter/100\n",
    "    print(P_A)\n",
    "    P_B = B_Counter/100\n",
    "    print(P_B)\n",
    "    P_D = D_Counter/100\n",
    "    print(P_D)\n",
    "    \n",
    "    if P_A * P_B != P_D:\n",
    "        print(\"they are not independent\")\n",
    "    else:\n",
    "        print(\"they are independent\")\n",
    "        \n",
    "    \n",
    "\n",
    "prob_simulate()"
   ]
  }
 ],
 "metadata": {
  "kernelspec": {
   "display_name": "Python 3",
   "language": "python",
   "name": "python3"
  },
  "language_info": {
   "codemirror_mode": {
    "name": "ipython",
    "version": 3
   },
   "file_extension": ".py",
   "mimetype": "text/x-python",
   "name": "python",
   "nbconvert_exporter": "python",
   "pygments_lexer": "ipython3",
   "version": "3.6.1"
  }
 },
 "nbformat": 4,
 "nbformat_minor": 2
}
